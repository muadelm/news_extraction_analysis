{
 "cells": [
  {
   "cell_type": "code",
   "execution_count": 1,
   "metadata": {},
   "outputs": [],
   "source": [
    "#!pip install GoogleNews"
   ]
  },
  {
   "cell_type": "code",
   "execution_count": 2,
   "metadata": {},
   "outputs": [],
   "source": [
    "#!pip install newspaper3k"
   ]
  },
  {
   "cell_type": "code",
   "execution_count": 9,
   "metadata": {},
   "outputs": [],
   "source": [
    "from GoogleNews import GoogleNews\n",
    "from newspaper import Article\n",
    "import pandas as pd"
   ]
  },
  {
   "cell_type": "markdown",
   "metadata": {},
   "source": [
    "## Loop over the field lists and create news for each field then combine the final in a dataframe"
   ]
  },
  {
   "cell_type": "code",
   "execution_count": 10,
   "metadata": {},
   "outputs": [],
   "source": [
    "# define column names of the resulting dataframe\n",
    "\n",
    "col_names = ['title', 'media', 'date', 'datetime', 'desc', 'link', 'img']"
   ]
  },
  {
   "cell_type": "code",
   "execution_count": 11,
   "metadata": {},
   "outputs": [],
   "source": [
    "def search_news(item):\n",
    "    \n",
    "    \"\"\"\n",
    "    function that takes in a search word and return a dataframe\n",
    "    \"\"\"\n",
    "    googlenews = GoogleNews()\n",
    "    googlenews.search(item)\n",
    "    result=googlenews.result()\n",
    "    df=pd.DataFrame(result)\n",
    "    return df"
   ]
  },
  {
   "cell_type": "code",
   "execution_count": 12,
   "metadata": {},
   "outputs": [],
   "source": [
    "def news_on_units(col_names, search_list):    \n",
    "    \n",
    "    \"\"\"\n",
    "    the purpose of the function is to get names of units or field and search news \n",
    "    \n",
    "    input = list of column names \n",
    "            search list that has the entities/fields/units we want to search\n",
    "    output = dataframe with news and names of units \n",
    "    \n",
    "    \"\"\"\n",
    "    \n",
    "    #create the dataframe considering the name of columns\n",
    "    final_df = pd.DataFrame(columns = col_names)\n",
    "    \n",
    "    #name the googlenews function\n",
    "    googlenews=GoogleNews()\n",
    "    \n",
    "    #construct the search loop\n",
    "    for item in search_list:\n",
    "        #print(gas_field)\n",
    "\n",
    "        #apply the search news function on each item\n",
    "        df = search_news(item)\n",
    "\n",
    "        # add a column to represent the name of the field\n",
    "        #df['field'] = gas_field\n",
    "        \n",
    "        #print(df.head())\n",
    "        #combine the resulting dataframe for each search into the final dataframe\n",
    "        final_df = pd.concat([final_df, df], axis = 0, ignore_index = True)\n",
    "\n",
    "    \n",
    "    # return the final dataframe\n",
    "    x = final_df\n",
    "    return x"
   ]
  },
  {
   "cell_type": "code",
   "execution_count": 13,
   "metadata": {},
   "outputs": [],
   "source": [
    "search_list = ['natural gas','natural gas demand', 'oil price','gas price', 'carbon capture', 'gas methane emissions','upstream oil and gas' , 'natural gas platts', 'energy IHS', 'LNG']\n",
    "#search_list = ['oil and gas microsoft','oil and gas google','oil and gas Nvidia','oil and gas IBM','oil and gas amazon','oil and gas Alphabet' ]"
   ]
  },
  {
   "cell_type": "code",
   "execution_count": 14,
   "metadata": {},
   "outputs": [
    {
     "name": "stderr",
     "output_type": "stream",
     "text": [
      "C:\\Users\\M.Amer\\AppData\\Local\\Continuum\\anaconda3\\lib\\site-packages\\dateparser\\date_parser.py:37: PytzUsageWarning: The localize method is no longer necessary, as this time zone supports the fold attribute (PEP 495). For more details on migrating to a PEP 495-compliant implementation, see https://pytz-deprecation-shim.readthedocs.io/en/latest/migration.html\n",
      "  date_obj = stz.localize(date_obj)\n"
     ]
    }
   ],
   "source": [
    "news_df = news_on_units(col_names, search_list)"
   ]
  },
  {
   "cell_type": "code",
   "execution_count": 15,
   "metadata": {},
   "outputs": [
    {
     "data": {
      "text/html": [
       "<div>\n",
       "<style scoped>\n",
       "    .dataframe tbody tr th:only-of-type {\n",
       "        vertical-align: middle;\n",
       "    }\n",
       "\n",
       "    .dataframe tbody tr th {\n",
       "        vertical-align: top;\n",
       "    }\n",
       "\n",
       "    .dataframe thead th {\n",
       "        text-align: right;\n",
       "    }\n",
       "</style>\n",
       "<table border=\"1\" class=\"dataframe\">\n",
       "  <thead>\n",
       "    <tr style=\"text-align: right;\">\n",
       "      <th></th>\n",
       "      <th>title</th>\n",
       "      <th>media</th>\n",
       "      <th>date</th>\n",
       "      <th>datetime</th>\n",
       "      <th>desc</th>\n",
       "      <th>link</th>\n",
       "      <th>img</th>\n",
       "    </tr>\n",
       "  </thead>\n",
       "  <tbody>\n",
       "    <tr>\n",
       "      <th>0</th>\n",
       "      <td>Profit at Oil &amp; Natural Gas Rose 32% in the Fo...</td>\n",
       "      <td></td>\n",
       "      <td>0 mins ago</td>\n",
       "      <td>NaT</td>\n",
       "      <td>Profit at Oil &amp; Natural Gas rose 32% in the fo...</td>\n",
       "      <td>https://www.latestly.com/socially/business/pro...</td>\n",
       "      <td>data:image/gif;base64,R0lGODlhAQABAIAAAP//////...</td>\n",
       "    </tr>\n",
       "    <tr>\n",
       "      <th>1</th>\n",
       "      <td>Why can't the US stop soaring oil and gas prices?</td>\n",
       "      <td></td>\n",
       "      <td>5 hours ago</td>\n",
       "      <td>2022-05-29 03:33:35.774947</td>\n",
       "      <td>As prices rise, oil and gas firms in the US wa...</td>\n",
       "      <td>https://www.bbc.com/news/business-61446317</td>\n",
       "      <td>data:image/gif;base64,R0lGODlhAQABAIAAAP//////...</td>\n",
       "    </tr>\n",
       "    <tr>\n",
       "      <th>2</th>\n",
       "      <td>Alaska's largest natural gas utility being sol...</td>\n",
       "      <td></td>\n",
       "      <td>9 hours ago</td>\n",
       "      <td>2022-05-28 23:33:35.790252</td>\n",
       "      <td>ANCHORAGE, ALASKA (AP) – The owner of the larg...</td>\n",
       "      <td>https://borneobulletin.com.bn/alaskas-largest-...</td>\n",
       "      <td>data:image/gif;base64,R0lGODlhAQABAIAAAP//////...</td>\n",
       "    </tr>\n",
       "    <tr>\n",
       "      <th>3</th>\n",
       "      <td>Can Egypt And Israel Fill The European Energy ...</td>\n",
       "      <td></td>\n",
       "      <td>0 hours ago</td>\n",
       "      <td>2022-05-29 08:33:35.790252</td>\n",
       "      <td>As European energy markets are dealing with th...</td>\n",
       "      <td>https://finance.yahoo.com/news/egypt-israel-fi...</td>\n",
       "      <td>data:image/gif;base64,R0lGODlhAQABAIAAAP//////...</td>\n",
       "    </tr>\n",
       "    <tr>\n",
       "      <th>4</th>\n",
       "      <td>Oil and Natural Gas : ONGC declares results fo...</td>\n",
       "      <td></td>\n",
       "      <td>1 hours ago</td>\n",
       "      <td>2022-05-29 07:33:35.790252</td>\n",
       "      <td>Highlights: Gross Revenue Rs.34,497 crore in Q...</td>\n",
       "      <td>https://www.marketscreener.com/quote/stock/OIL...</td>\n",
       "      <td>data:image/gif;base64,R0lGODlhAQABAIAAAP//////...</td>\n",
       "    </tr>\n",
       "    <tr>\n",
       "      <th>...</th>\n",
       "      <td>...</td>\n",
       "      <td>...</td>\n",
       "      <td>...</td>\n",
       "      <td>...</td>\n",
       "      <td>...</td>\n",
       "      <td>...</td>\n",
       "      <td>...</td>\n",
       "    </tr>\n",
       "    <tr>\n",
       "      <th>95</th>\n",
       "      <td>Fourth Gas Unit of Iran LNG Power Station Goes...</td>\n",
       "      <td></td>\n",
       "      <td>2 hours ago</td>\n",
       "      <td>2022-05-29 06:34:01.671565</td>\n",
       "      <td>The fourth 162-megawatt gas unit of Iran LNG C...</td>\n",
       "      <td>https://financialtribune.com/articles/energy/1...</td>\n",
       "      <td>data:image/gif;base64,R0lGODlhAQABAIAAAP//////...</td>\n",
       "    </tr>\n",
       "    <tr>\n",
       "      <th>96</th>\n",
       "      <td>High costs and legal impasses hinder LNG energ...</td>\n",
       "      <td></td>\n",
       "      <td>2 hours ago</td>\n",
       "      <td>2022-05-29 06:34:01.671565</td>\n",
       "      <td>VIETNAM, May 28 - An LNG power plant in the so...</td>\n",
       "      <td>http://www.einnews.com/pr_news/574394429/high-...</td>\n",
       "      <td>data:image/gif;base64,R0lGODlhAQABAIAAAP//////...</td>\n",
       "    </tr>\n",
       "    <tr>\n",
       "      <th>97</th>\n",
       "      <td>Top global LNG importer Korea Gas to transitio...</td>\n",
       "      <td></td>\n",
       "      <td>1 day ago</td>\n",
       "      <td>2022-05-28 08:34:01.671565</td>\n",
       "      <td>Korea Gas, one of the world's largest liquefie...</td>\n",
       "      <td>https://www.thenationalnews.com/business/road-...</td>\n",
       "      <td>data:image/gif;base64,R0lGODlhAQABAIAAAP//////...</td>\n",
       "    </tr>\n",
       "    <tr>\n",
       "      <th>98</th>\n",
       "      <td>Ottawa open to East Coast LNG plans, subject t...</td>\n",
       "      <td></td>\n",
       "      <td>1 day ago</td>\n",
       "      <td>2022-05-28 08:34:01.687111</td>\n",
       "      <td>Two proposals in New Brunswick and Nova Scotia...</td>\n",
       "      <td>https://www.theglobeandmail.com/business/artic...</td>\n",
       "      <td>data:image/gif;base64,R0lGODlhAQABAIAAAP//////...</td>\n",
       "    </tr>\n",
       "    <tr>\n",
       "      <th>99</th>\n",
       "      <td>Mild Early-June Forecast Sinks July Natural Ga...</td>\n",
       "      <td></td>\n",
       "      <td>1 day ago</td>\n",
       "      <td>2022-05-28 08:34:01.702627</td>\n",
       "      <td>July natural gas futures debuted at the front ...</td>\n",
       "      <td>https://www.naturalgasintel.com/mild-early-jun...</td>\n",
       "      <td>data:image/gif;base64,R0lGODlhAQABAIAAAP//////...</td>\n",
       "    </tr>\n",
       "  </tbody>\n",
       "</table>\n",
       "<p>100 rows × 7 columns</p>\n",
       "</div>"
      ],
      "text/plain": [
       "                                                title media         date  \\\n",
       "0   Profit at Oil & Natural Gas Rose 32% in the Fo...         0 mins ago   \n",
       "1   Why can't the US stop soaring oil and gas prices?        5 hours ago   \n",
       "2   Alaska's largest natural gas utility being sol...        9 hours ago   \n",
       "3   Can Egypt And Israel Fill The European Energy ...        0 hours ago   \n",
       "4   Oil and Natural Gas : ONGC declares results fo...        1 hours ago   \n",
       "..                                                ...   ...          ...   \n",
       "95  Fourth Gas Unit of Iran LNG Power Station Goes...        2 hours ago   \n",
       "96  High costs and legal impasses hinder LNG energ...        2 hours ago   \n",
       "97  Top global LNG importer Korea Gas to transitio...          1 day ago   \n",
       "98  Ottawa open to East Coast LNG plans, subject t...          1 day ago   \n",
       "99  Mild Early-June Forecast Sinks July Natural Ga...          1 day ago   \n",
       "\n",
       "                     datetime  \\\n",
       "0                         NaT   \n",
       "1  2022-05-29 03:33:35.774947   \n",
       "2  2022-05-28 23:33:35.790252   \n",
       "3  2022-05-29 08:33:35.790252   \n",
       "4  2022-05-29 07:33:35.790252   \n",
       "..                        ...   \n",
       "95 2022-05-29 06:34:01.671565   \n",
       "96 2022-05-29 06:34:01.671565   \n",
       "97 2022-05-28 08:34:01.671565   \n",
       "98 2022-05-28 08:34:01.687111   \n",
       "99 2022-05-28 08:34:01.702627   \n",
       "\n",
       "                                                 desc  \\\n",
       "0   Profit at Oil & Natural Gas rose 32% in the fo...   \n",
       "1   As prices rise, oil and gas firms in the US wa...   \n",
       "2   ANCHORAGE, ALASKA (AP) – The owner of the larg...   \n",
       "3   As European energy markets are dealing with th...   \n",
       "4   Highlights: Gross Revenue Rs.34,497 crore in Q...   \n",
       "..                                                ...   \n",
       "95  The fourth 162-megawatt gas unit of Iran LNG C...   \n",
       "96  VIETNAM, May 28 - An LNG power plant in the so...   \n",
       "97  Korea Gas, one of the world's largest liquefie...   \n",
       "98  Two proposals in New Brunswick and Nova Scotia...   \n",
       "99  July natural gas futures debuted at the front ...   \n",
       "\n",
       "                                                 link  \\\n",
       "0   https://www.latestly.com/socially/business/pro...   \n",
       "1          https://www.bbc.com/news/business-61446317   \n",
       "2   https://borneobulletin.com.bn/alaskas-largest-...   \n",
       "3   https://finance.yahoo.com/news/egypt-israel-fi...   \n",
       "4   https://www.marketscreener.com/quote/stock/OIL...   \n",
       "..                                                ...   \n",
       "95  https://financialtribune.com/articles/energy/1...   \n",
       "96  http://www.einnews.com/pr_news/574394429/high-...   \n",
       "97  https://www.thenationalnews.com/business/road-...   \n",
       "98  https://www.theglobeandmail.com/business/artic...   \n",
       "99  https://www.naturalgasintel.com/mild-early-jun...   \n",
       "\n",
       "                                                  img  \n",
       "0   data:image/gif;base64,R0lGODlhAQABAIAAAP//////...  \n",
       "1   data:image/gif;base64,R0lGODlhAQABAIAAAP//////...  \n",
       "2   data:image/gif;base64,R0lGODlhAQABAIAAAP//////...  \n",
       "3   data:image/gif;base64,R0lGODlhAQABAIAAAP//////...  \n",
       "4   data:image/gif;base64,R0lGODlhAQABAIAAAP//////...  \n",
       "..                                                ...  \n",
       "95  data:image/gif;base64,R0lGODlhAQABAIAAAP//////...  \n",
       "96  data:image/gif;base64,R0lGODlhAQABAIAAAP//////...  \n",
       "97  data:image/gif;base64,R0lGODlhAQABAIAAAP//////...  \n",
       "98  data:image/gif;base64,R0lGODlhAQABAIAAAP//////...  \n",
       "99  data:image/gif;base64,R0lGODlhAQABAIAAAP//////...  \n",
       "\n",
       "[100 rows x 7 columns]"
      ]
     },
     "execution_count": 15,
     "metadata": {},
     "output_type": "execute_result"
    }
   ],
   "source": [
    "news_df"
   ]
  },
  {
   "cell_type": "code",
   "execution_count": 16,
   "metadata": {},
   "outputs": [],
   "source": [
    "news_df.to_excel(r'C:\\Users\\M.Amer\\Desktop\\GECF_Corona\\News\\29_May2022.xlsx', index = False)\n"
   ]
  },
  {
   "cell_type": "markdown",
   "metadata": {},
   "source": [
    "## References "
   ]
  },
  {
   "cell_type": "markdown",
   "metadata": {},
   "source": [
    "* https://pypi.org/project/GoogleNews/\n",
    "* https://www.youtube.com/watch?v=rQXL9A0ST5k"
   ]
  },
  {
   "cell_type": "markdown",
   "metadata": {},
   "source": [
    "### Analysis "
   ]
  },
  {
   "cell_type": "code",
   "execution_count": null,
   "metadata": {},
   "outputs": [],
   "source": []
  },
  {
   "cell_type": "code",
   "execution_count": null,
   "metadata": {},
   "outputs": [],
   "source": [
    "from wordcloud import WordCloud\n",
    "wordcloud_low = WordCloud( width = 800, height = 500, random_state = 24,\n",
    "                         max_font_size = 100).generate(methane_text)\n",
    "plt.figure(figsize=(15,8))\n",
    "plt.axis('off')\n",
    "plt.imshow(wordcloud_low)\n",
    "plt.tight_layout(pad = 0)\n",
    "plt.show()"
   ]
  }
 ],
 "metadata": {
  "kernelspec": {
   "display_name": "Python 3",
   "language": "python",
   "name": "python3"
  },
  "language_info": {
   "codemirror_mode": {
    "name": "ipython",
    "version": 3
   },
   "file_extension": ".py",
   "mimetype": "text/x-python",
   "name": "python",
   "nbconvert_exporter": "python",
   "pygments_lexer": "ipython3",
   "version": "3.7.4"
  }
 },
 "nbformat": 4,
 "nbformat_minor": 2
}
